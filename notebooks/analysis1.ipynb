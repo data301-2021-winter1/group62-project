{
 "cells": [
  {
   "cell_type": "markdown",
   "source": [
    "# Anita Keto"
   ],
   "metadata": {}
  },
  {
   "cell_type": "markdown",
   "source": [
    "## Research question/interests\r\n",
    "\r\n",
    "I'm Interested in data processing and Machine learning."
   ],
   "metadata": {}
  }
 ],
 "metadata": {
  "orig_nbformat": 4,
  "language_info": {
   "name": "plaintext"
  }
 },
 "nbformat": 4,
 "nbformat_minor": 2
}
